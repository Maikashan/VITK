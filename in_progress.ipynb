{
 "cells": [
  {
   "cell_type": "code",
   "execution_count": 1,
   "metadata": {},
   "outputs": [],
   "source": [
    "import itk"
   ]
  },
  {
   "cell_type": "code",
   "execution_count": 2,
   "metadata": {},
   "outputs": [],
   "source": [
    "import os\n",
    "import matplotlib\n",
    "import matplotlib.pyplot as plt"
   ]
  },
  {
   "cell_type": "code",
   "execution_count": 3,
   "metadata": {},
   "outputs": [],
   "source": [
    "PixelType = itk.ctype('signed short')\n",
    "DiffusionImageType = itk.Image[PixelType, 3]\n",
    "FileReaderType = itk.ImageFileReader[DiffusionImageType]"
   ]
  },
  {
   "cell_type": "code",
   "execution_count": 22,
   "metadata": {},
   "outputs": [],
   "source": [
    "PixelType = itk.ctype('float')\n",
    "fixed_image = itk.imread('Data/case6_gre1.nrrd', PixelType)\n",
    "moving_image = itk.imread('Data/case6_gre2.nrrd', PixelType)\n",
    "dimension = fixed_image.GetImageDimension()\n",
    "FixedImageType = itk.Image[PixelType,dimension]\n",
    "MovingImageType = itk.Image[PixelType,dimension]"
   ]
  },
  {
   "cell_type": "code",
   "execution_count": 17,
   "metadata": {},
   "outputs": [],
   "source": [
    "# # Reading the images\n",
    "# reader = FileReaderType.New()\n",
    "# reader.SetFileName('Data/case6_gre1.nrrd')\n",
    "# reader.Update()\n",
    "# image1 = reader.GetOutput()\n",
    "# reader.SetFileName('Data/case6_gre2.nrrd')\n",
    "# reader.Update()\n",
    "# image2 = reader.GetOutput()"
   ]
  },
  {
   "cell_type": "code",
   "execution_count": null,
   "metadata": {},
   "outputs": [],
   "source": []
  },
  {
   "cell_type": "code",
   "execution_count": 27,
   "metadata": {},
   "outputs": [],
   "source": [
    "TransformType = itk.TranslationTransform[itk.D, dimension]\n",
    "initial_transform = TransformType.New()"
   ]
  },
  {
   "cell_type": "code",
   "execution_count": 28,
   "metadata": {},
   "outputs": [],
   "source": [
    "optimizer = itk.RegularStepGradientDescentOptimizerv4.New()\n",
    "optimizer.SetLearningRate(4)\n",
    "optimizer.SetMinimumStepLength(0.001)\n",
    "optimizer.SetNumberOfIterations(200)"
   ]
  },
  {
   "cell_type": "code",
   "execution_count": 29,
   "metadata": {},
   "outputs": [],
   "source": [
    "metric = itk.MeanSquaresImageToImageMetricv4[FixedImageType, MovingImageType].New()\n",
    "fixed_image_interpolation = itk.LinearInterpolateImageFunction[FixedImageType, itk.D].New()\n",
    "metric.SetFixedInterpolator(fixed_image_interpolation)"
   ]
  },
  {
   "cell_type": "code",
   "execution_count": 30,
   "metadata": {},
   "outputs": [],
   "source": [
    "registration = itk.ImageRegistrationMethodv4[FixedImageType,MovingImageType].New(\n",
    "    FixedImage=fixed_image,\n",
    "    MovingImage=moving_image,\n",
    "    Metric=metric,\n",
    "    Optimizer=optimizer,\n",
    "    InitialTransform=initial_transform\n",
    ")"
   ]
  },
  {
   "cell_type": "code",
   "execution_count": 31,
   "metadata": {},
   "outputs": [],
   "source": [
    "moving_initial_transform = TransformType.New()\n",
    "initial_parameters = moving_initial_transform.GetParameters()\n",
    "initial_parameters[0] = 0\n",
    "initial_parameters[1] = 0\n",
    "moving_initial_transform.SetParameters(initial_parameters)\n",
    "registration.SetMovingInitialTransform(moving_initial_transform)"
   ]
  },
  {
   "cell_type": "code",
   "execution_count": 32,
   "metadata": {},
   "outputs": [],
   "source": [
    "identity_transform = TransformType.New()\n",
    "identity_transform.SetIdentity()\n",
    "\n",
    "registration.SetFixedInitialTransform(identity_transform)\n",
    "registration.SetNumberOfLevels(1)\n",
    "registration.SetSmoothingSigmasPerLevel([0])\n",
    "registration.SetShrinkFactorsPerLevel([1])\n",
    "registration.Update()"
   ]
  },
  {
   "cell_type": "code",
   "execution_count": 33,
   "metadata": {},
   "outputs": [],
   "source": [
    "transform = registration.GetTransform()\n",
    "finalParameters = transform.GetParameters()\n",
    "translationAlongX = finalParameters.GetElement(0)\n",
    "translationAlongY = finalParameters.GetElement(1)"
   ]
  },
  {
   "cell_type": "code",
   "execution_count": 34,
   "metadata": {},
   "outputs": [],
   "source": [
    "number_of_iterations = optimizer.GetCurrentIteration()"
   ]
  },
  {
   "cell_type": "code",
   "execution_count": 35,
   "metadata": {},
   "outputs": [],
   "source": [
    "best_value = optimizer.GetValue()"
   ]
  },
  {
   "cell_type": "code",
   "execution_count": 37,
   "metadata": {},
   "outputs": [
    {
     "name": "stdout",
     "output_type": "stream",
     "text": [
      "Result = \n",
      " Translation X = -0.835883044801508\n",
      " Translation Y = -3.5406643556563693\n",
      " Iterations    = 31\n",
      " Metric value  = 11177.92375512222\n"
     ]
    }
   ],
   "source": [
    "print(\"Result = \")\n",
    "print(\" Translation X = \" + str(translationAlongX))\n",
    "print(\" Translation Y = \" + str(translationAlongY))\n",
    "print(\" Iterations    = \" + str(number_of_iterations))\n",
    "print(\" Metric value  = \" + str(best_value))"
   ]
  },
  {
   "cell_type": "code",
   "execution_count": 41,
   "metadata": {},
   "outputs": [],
   "source": [
    "CompositeTransformType = itk.CompositeTransform[itk.D, dimension]\n",
    "outputCompositeTransform = CompositeTransformType.New()\n",
    "outputCompositeTransform.AddTransform(initial_transform)\n",
    "outputCompositeTransform.AddTransform(registration.GetModifiableTransform())"
   ]
  },
  {
   "cell_type": "code",
   "execution_count": 42,
   "metadata": {},
   "outputs": [],
   "source": [
    "resampler = itk.ResampleImageFilter.New(\n",
    "    Input=moving_image,\n",
    "    Transform=transform,\n",
    "    UseReferenceImage=True,\n",
    "    ReferenceImage=fixed_image\n",
    ")"
   ]
  },
  {
   "cell_type": "code",
   "execution_count": 43,
   "metadata": {},
   "outputs": [],
   "source": [
    "resampler.SetDefaultPixelValue(100)"
   ]
  },
  {
   "cell_type": "code",
   "execution_count": 44,
   "metadata": {},
   "outputs": [],
   "source": [
    "subtraction = itk.SubtractImageFilter(Input1=fixed_image, Input2=resampler)"
   ]
  },
  {
   "cell_type": "markdown",
   "metadata": {},
   "source": [
    "It might be interesting to test things with an intensity rescaler as well"
   ]
  },
  {
   "cell_type": "code",
   "execution_count": 46,
   "metadata": {},
   "outputs": [],
   "source": [
    "OutputPixelType = itk.UC\n",
    "OutputImageType = itk.Image[OutputPixelType, dimension]\n",
    "caster = itk.CastImageFilter[FixedImageType, OutputImageType].New(resampler)"
   ]
  },
  {
   "cell_type": "code",
   "execution_count": 47,
   "metadata": {},
   "outputs": [],
   "source": [
    "itk.imwrite(caster, \"res.nrrd\")"
   ]
  },
  {
   "cell_type": "code",
   "execution_count": null,
   "metadata": {},
   "outputs": [],
   "source": []
  }
 ],
 "metadata": {
  "kernelspec": {
   "display_name": "ITK-kernel",
   "language": "python",
   "name": "itk-kernel"
  },
  "language_info": {
   "codemirror_mode": {
    "name": "ipython",
    "version": 3
   },
   "file_extension": ".py",
   "mimetype": "text/x-python",
   "name": "python",
   "nbconvert_exporter": "python",
   "pygments_lexer": "ipython3",
   "version": "3.10.0"
  }
 },
 "nbformat": 4,
 "nbformat_minor": 4
}
